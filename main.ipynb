{
 "cells": [
  {
   "cell_type": "code",
   "execution_count": 1,
   "metadata": {},
   "outputs": [],
   "source": [
    "#import require library\n",
    "import time\n",
    "import pandas as pd\n",
    "import csv\n",
    "from selenium import webdriver\n",
    "from selenium.webdriver.common.by import By\n",
    "from selenium.webdriver.chrome.service import Service as ChromeService\n",
    "from webdriver_manager.chrome import ChromeDriverManager\n",
    "from selenium.webdriver.support.ui import WebDriverWait\n",
    "from selenium.webdriver.common.keys import Keys\n",
    "from selenium.webdriver.support import expected_conditions as EC\n",
    "from selenium.common.exceptions import TimeoutException\n",
    "from selenium.webdriver.chrome.service import Service\n",
    "from bs4 import BeautifulSoup\n",
    "from selenium.common.exceptions import NoSuchElementException, TimeoutException\n",
    "import json\n",
    "from urllib.parse import urljoin\n",
    "from urllib.parse import urljoin, urlparse, parse_qs\n"
   ]
  },
  {
   "cell_type": "code",
   "execution_count": null,
   "metadata": {},
   "outputs": [],
   "source": [
    "#define driver\n",
    "\n",
    "url = 'https://accounts.google.com/v3/signin/identifier?continue=https%3A%2F%2Fmail.google.com%2Fmail%2F&ifkv=AdF4I753ymwF8pkRyAnFkODQR8GEMnEWhRQ7EKyPxvnRljS80EXdFz5O2tc_nARRcwdrETyGiemdZg&rip=1&sacu=1&service=mail&flowName=GlifWebSignIn&flowEntry=ServiceLogin&dsh=S34597178%3A1720694607446028&ddm=0'\n",
    "driver = webdriver.Chrome(service=ChromeService(ChromeDriverManager().install()))\n",
    "\n",
    "options = webdriver.ChromeOptions()\n",
    "options.headless = True"
   ]
  },
  {
   "cell_type": "code",
   "execution_count": 5,
   "metadata": {},
   "outputs": [],
   "source": [
    "import smtplib \n",
    "from email.mime.multipart import MIMEMultipart\n",
    "from email.mime.text import MIMEText\n",
    "from email.mime.application import MIMEApplication \n"
   ]
  },
  {
   "cell_type": "code",
   "execution_count": 13,
   "metadata": {},
   "outputs": [
    {
     "name": "stdout",
     "output_type": "stream",
     "text": [
      "Attachment path: \n",
      "No file attached\n",
      "Email sent successfully!\n"
     ]
    }
   ],
   "source": [
    "import smtplib\n",
    "from email.mime.multipart import MIMEMultipart\n",
    "from email.mime.text import MIMEText\n",
    "from email.mime.application import MIMEApplication\n",
    "\n",
    "def remove_surrounding_quotes(path):\n",
    "    \"\"\"Remove surrounding quotes from the file path.\"\"\"\n",
    "    if path.startswith('\"') and path.endswith('\"'):\n",
    "        return path[1:-1]\n",
    "    return path\n",
    "\n",
    "def send_email(sender_email, sender_password, recipient_email, subject, body, path_to_file):\n",
    "    \"\"\"Send an email with an optional attachment.\"\"\"\n",
    "    \n",
    "    # Define the SMTP server and port\n",
    "    smtp_server = 'smtp.gmail.com'\n",
    "    smtp_port = 465\n",
    "    \n",
    "    # Prepare the email message\n",
    "    message = MIMEMultipart()\n",
    "    message['Subject'] = subject\n",
    "    message['From'] = sender_email\n",
    "    message['To'] = recipient_email\n",
    "    \n",
    "    # Attach the body of the email\n",
    "    body_part = MIMEText(body)\n",
    "    message.attach(body_part)\n",
    "    \n",
    "    # Process the file attachment\n",
    "    path_to_file = remove_surrounding_quotes(path_to_file).replace(\"\\\\\", \"/\")\n",
    "    print(f\"Attachment path: {path_to_file}\")\n",
    "    \n",
    "    try:\n",
    "        with open(path_to_file, 'rb') as file:\n",
    "            file_name = path_to_file.split(\"/\")[-1]\n",
    "            message.attach(MIMEApplication(file.read(), Name=file_name))\n",
    "    except FileNotFoundError:\n",
    "        print(\"No file attached\")\n",
    "\n",
    "    # Connect to the SMTP server and send the email\n",
    "    try:\n",
    "        with smtplib.SMTP_SSL(smtp_server, smtp_port) as server:\n",
    "            server.login(sender_email, sender_password)\n",
    "            server.sendmail(sender_email, recipient_email, message.as_string())\n",
    "        print(\"Email sent successfully!\")\n",
    "    except Exception as e:\n",
    "        print(f\"Failed to send email: {e}\")\n",
    "\n",
    "# Get user inputs\n",
    "recipient_email = input(\"Please enter recipient email ID: \")\n",
    "subject = input(\"Please enter the subject of email: \")\n",
    "body = input(\"Please enter the message for email: \")\n",
    "sender_email = input(\"Please enter your email ID: \")\n",
    "sender_password = input(\"Please enter your email app password: \")\n",
    "path_to_file = input(\"Please enter the file path: \")\n",
    "\n",
    "# Call the send_email function\n",
    "send_email(sender_email, sender_password, recipient_email, subject, body, path_to_file)"
   ]
  }
 ],
 "metadata": {
  "kernelspec": {
   "display_name": "env",
   "language": "python",
   "name": "python3"
  },
  "language_info": {
   "codemirror_mode": {
    "name": "ipython",
    "version": 3
   },
   "file_extension": ".py",
   "mimetype": "text/x-python",
   "name": "python",
   "nbconvert_exporter": "python",
   "pygments_lexer": "ipython3",
   "version": "3.11.4"
  }
 },
 "nbformat": 4,
 "nbformat_minor": 2
}
